{
 "cells": [
  {
   "cell_type": "code",
   "execution_count": 63,
   "metadata": {},
   "outputs": [],
   "source": [
    "import timeit\n",
    "import random\n",
    "import matplotlib.pyplot as plt"
   ]
  },
  {
   "cell_type": "markdown",
   "metadata": {},
   "source": []
  },
  {
   "cell_type": "code",
   "execution_count": 64,
   "metadata": {},
   "outputs": [],
   "source": [
    "#source: https://www.geeksforgeeks.org/insertion-sort/\n",
    "\n",
    "def insertionSort(arr):\n",
    " \n",
    "    # Traverse through 1 to len(arr)\n",
    "    for i in range(1, len(arr)):\n",
    " \n",
    "        key = arr[i]\n",
    " \n",
    "        # Move elements of arr[0..i-1], that are\n",
    "        # greater than key, to one position ahead\n",
    "        # of their current position\n",
    "        j = i-1\n",
    "        while j >= 0 and key < arr[j] :\n",
    "                arr[j + 1] = arr[j]\n",
    "                j -= 1\n",
    "        arr[j + 1] = key\n"
   ]
  },
  {
   "cell_type": "code",
   "execution_count": 65,
   "metadata": {},
   "outputs": [],
   "source": [
    "# source: https://www.geeksforgeeks.org/merge-sort/\n",
    "\n",
    "def mergeSort(arr):\n",
    "    if len(arr) > 1:\n",
    " \n",
    "         # Finding the mid of the array\n",
    "        mid = len(arr)//2\n",
    " \n",
    "        # Dividing the array elements\n",
    "        L = arr[:mid]\n",
    " \n",
    "        # Into 2 halves\n",
    "        R = arr[mid:]\n",
    " \n",
    "        # Sorting the first half\n",
    "        mergeSort(L)\n",
    " \n",
    "        # Sorting the second half\n",
    "        mergeSort(R)\n",
    " \n",
    "        i = j = k = 0\n",
    " \n",
    "        # Copy data to temp arrays L[] and R[]\n",
    "        while i < len(L) and j < len(R):\n",
    "            if L[i] <= R[j]:\n",
    "                arr[k] = L[i]\n",
    "                i += 1\n",
    "            else:\n",
    "                arr[k] = R[j]\n",
    "                j += 1\n",
    "            k += 1\n",
    " \n",
    "        # Checking if any element was left\n",
    "        while i < len(L):\n",
    "            arr[k] = L[i]\n",
    "            i += 1\n",
    "            k += 1\n",
    " \n",
    "        while j < len(R):\n",
    "            arr[k] = R[j]\n",
    "            j += 1\n",
    "            k += 1\n",
    " \n",
    " \n",
    "# # Code to print the list\n",
    "# def printList(arr):\n",
    "#     for i in range(len(arr)):\n",
    "#         print(arr[i], end=\" \")\n",
    "#     print()\n",
    " \n",
    " \n",
    "# # Driver Code\n",
    "# if __name__ == '__main__':\n",
    "#     arr = [12, 11, 13, 5, 6, 7]\n",
    "#     print(\"Given array is\")\n",
    "#     printList(arr)\n",
    "#     mergeSort(arr)\n",
    "#     print(\"\\nSorted array is \")\n",
    "#     printList(arr)\n",
    " \n",
    "# This code is contributed by Mayank Khanna"
   ]
  },
  {
   "cell_type": "code",
   "execution_count": 66,
   "metadata": {},
   "outputs": [
    {
     "name": "stdout",
     "output_type": "stream",
     "text": [
      "Insertion Sort Time: 0.000852 seconds\n",
      "Merge Sort Time: 0.002863 seconds\n",
      "merge sort takes longer time\n"
     ]
    }
   ],
   "source": [
    "my_list = [1, 3, 6, 7, 3, 8, 2, 4]\n",
    "\n",
    "# Time insertion sort\n",
    "insertion_time_small_one = timeit.timeit('insertionSort(my_list.copy())', globals=globals(), number=100)\n",
    "print(f\"Insertion Sort Time: {insertion_time_small_one:.6f} seconds\")\n",
    "\n",
    "# Time merge sort\n",
    "merge_time_small_one = timeit.timeit('mergeSort(my_list.copy())', globals=globals(), number=100)\n",
    "print(f\"Merge Sort Time: {merge_time_small_one:.6f} seconds\")\n",
    "\n",
    "if insertion_time_small_one > merge_time_small_one:\n",
    "    print(\"insertion sort takes longer time\")\n",
    "else:\n",
    "    print(\"merge sort takes longer time\")"
   ]
  },
  {
   "cell_type": "code",
   "execution_count": 67,
   "metadata": {},
   "outputs": [
    {
     "name": "stdout",
     "output_type": "stream",
     "text": [
      "Insertion Sort Time: 0.000083 seconds\n",
      "Merge Sort Time: 0.000209 seconds\n",
      "merge sort takes longer time\n"
     ]
    }
   ],
   "source": [
    "my_list = [3, 7, 2]\n",
    "\n",
    "# Time insertion sort\n",
    "insertion_time_small_two = timeit.timeit('insertionSort(my_list.copy())', globals=globals(), number=100)\n",
    "print(f\"Insertion Sort Time: {insertion_time_small_two:.6f} seconds\")\n",
    "\n",
    "# Time merge sort\n",
    "merge_time_small_two = timeit.timeit('mergeSort(my_list.copy())', globals=globals(), number=100)\n",
    "print(f\"Merge Sort Time: {merge_time_small_two:.6f} seconds\")\n",
    "\n",
    "if insertion_time_small_two > merge_time_small_two:\n",
    "    print(\"insertion sort takes longer time\")\n",
    "else:\n",
    "    print(\"merge sort takes longer time\")"
   ]
  },
  {
   "cell_type": "code",
   "execution_count": 68,
   "metadata": {},
   "outputs": [
    {
     "name": "stdout",
     "output_type": "stream",
     "text": [
      "Insertion Sort Time: 0.913502 seconds\n",
      "Merge Sort Time: 0.139042 seconds\n",
      "insertion sort takes longer time\n"
     ]
    }
   ],
   "source": [
    "# n < 1000\n",
    "\n",
    "my_list = [random.randint(1, 1000) for _ in range(500)]\n",
    "\n",
    "# Time insertion sort\n",
    "insertion_time_small = timeit.timeit('insertionSort(my_list.copy())', globals=globals(), number=100)\n",
    "print(f\"Insertion Sort Time: {insertion_time_small:.6f} seconds\")\n",
    "\n",
    "# Time merge sort\n",
    "merge_time_small = timeit.timeit('mergeSort(my_list.copy())', globals=globals(), number=100)\n",
    "print(f\"Merge Sort Time: {merge_time_small:.6f} seconds\")\n",
    "\n",
    "if insertion_time_small > merge_time_small:\n",
    "    print(\"insertion sort takes longer time\")\n",
    "else:\n",
    "    print(\"merge sort takes longer time\")"
   ]
  },
  {
   "cell_type": "code",
   "execution_count": 69,
   "metadata": {},
   "outputs": [
    {
     "name": "stdout",
     "output_type": "stream",
     "text": [
      "Insertion Sort Time: 5.534006 seconds\n",
      "Merge Sort Time: 0.319128 seconds\n",
      "insertion sort takes longer time\n"
     ]
    }
   ],
   "source": [
    "# 1000 < n < 1500\n",
    "\n",
    "my_list = [random.randint(1, 1000) for _ in range(1250)]\n",
    "\n",
    "# Time insertion sort\n",
    "insertion_time_medium = timeit.timeit('insertionSort(my_list.copy())', globals=globals(), number=100)\n",
    "print(f\"Insertion Sort Time: {insertion_time_medium:.6f} seconds\")\n",
    "\n",
    "# Time merge sort\n",
    "merge_time_medium = timeit.timeit('mergeSort(my_list.copy())', globals=globals(), number=100)\n",
    "print(f\"Merge Sort Time: {merge_time_medium:.6f} seconds\")\n",
    "\n",
    "if insertion_time_medium > merge_time_medium:\n",
    "    print(\"insertion sort takes longer time\")\n",
    "else:\n",
    "    print(\"merge sort takes longer time\")"
   ]
  },
  {
   "cell_type": "code",
   "execution_count": 70,
   "metadata": {},
   "outputs": [
    {
     "name": "stdout",
     "output_type": "stream",
     "text": [
      "Insertion Sort Time: 10.242909 seconds\n",
      "Merge Sort Time: 0.459192 seconds\n",
      "insertion sort takes longer time\n"
     ]
    }
   ],
   "source": [
    "# n > 1500\n",
    "\n",
    "my_list = [random.randint(1, 1000) for _ in range(1750)]\n",
    "\n",
    "# Time insertion sort\n",
    "insertion_time_large = timeit.timeit('insertionSort(my_list.copy())', globals=globals(), number=100)\n",
    "print(f\"Insertion Sort Time: {insertion_time_large:.6f} seconds\")\n",
    "\n",
    "# Time merge sort\n",
    "merge_time_large = timeit.timeit('mergeSort(my_list.copy())', globals=globals(), number=100)\n",
    "print(f\"Merge Sort Time: {merge_time_large:.6f} seconds\")\n",
    "\n",
    "if insertion_time_large > merge_time_large:\n",
    "    print(\"insertion sort takes longer time\")\n",
    "else:\n",
    "    print(\"merge sort takes longer time\")"
   ]
  },
  {
   "cell_type": "code",
   "execution_count": 71,
   "metadata": {},
   "outputs": [],
   "source": [
    "different_sample_sizes = [8, 3, 500, 1250, 1750]\n",
    "insertion_times = [insertion_time_small_one, insertion_time_small_two, insertion_time_small, insertion_time_medium, insertion_time_large]\n",
    "merge_times = [merge_time_small_one, merge_time_small_two, merge_time_small, merge_time_medium, merge_time_large]"
   ]
  },
  {
   "cell_type": "code",
   "execution_count": 72,
   "metadata": {},
   "outputs": [
    {
     "data": {
      "image/png": "[encoded data removed]",
      "text/plain": [
       "<Figure size 432x288 with 1 Axes>"
      ]
     },
     "metadata": {
      "needs_background": "light"
     },
     "output_type": "display_data"
    }
   ],
   "source": [
    "plt.plot(different_sample_sizes, insertion_times, label='Insertion Sort')\n",
    "plt.plot(different_sample_sizes, merge_times, label='Merge Sort')\n",
    "intersection_point = different_sample_sizes[merge_times.index(min(merge_times))]\n",
    "plt.scatter([intersection_point], [min(merge_times)], color='red')\n",
    "plt.annotate(f'Intersection\\n(n={intersection_point})',\n",
    "             xy=(intersection_point, min(merge_times)),\n",
    "             xytext=(intersection_point - 500, min(merge_times) + 0.1),\n",
    "             arrowprops=dict(facecolor='black', shrink=0.05))\n",
    "\n",
    "plt.xlabel('Sample Size (n)')\n",
    "plt.ylabel('Execution Time (seconds)')\n",
    "plt.title('Insertion Sort vs. Merge Sort Performance')\n",
    "plt.legend()\n",
    "plt.grid(True)\n",
    "plt.show()"
   ]
  }
 ],
 "metadata": {
  "kernelspec": {
   "display_name": "base",
   "language": "python",
   "name": "python3"
  },
  "language_info": {
   "codemirror_mode": {
    "name": "ipython",
    "version": 3
   },
   "file_extension": ".py",
   "mimetype": "text/x-python",
   "name": "python",
   "nbconvert_exporter": "python",
   "pygments_lexer": "ipython3",
   "version": "3.9.7"
  },
  "orig_nbformat": 4
 },
 "nbformat": 4,
 "nbformat_minor": 2
}
