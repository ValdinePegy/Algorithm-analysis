{
 "cells": [
  {
   "cell_type": "code",
   "execution_count": 1,
   "metadata": {},
   "outputs": [],
   "source": [
    "import timeit\n",
    "import random"
   ]
  },
  {
   "cell_type": "markdown",
   "metadata": {},
   "source": []
  },
  {
   "cell_type": "code",
   "execution_count": 2,
   "metadata": {},
   "outputs": [],
   "source": [
    "#source: https://www.geeksforgeeks.org/insertion-sort/\n",
    "\n",
    "def insertionSort(arr):\n",
    " \n",
    "    # Traverse through 1 to len(arr)\n",
    "    for i in range(1, len(arr)):\n",
    " \n",
    "        key = arr[i]\n",
    " \n",
    "        # Move elements of arr[0..i-1], that are\n",
    "        # greater than key, to one position ahead\n",
    "        # of their current position\n",
    "        j = i-1\n",
    "        while j >= 0 and key < arr[j] :\n",
    "                arr[j + 1] = arr[j]\n",
    "                j -= 1\n",
    "        arr[j + 1] = key\n"
   ]
  },
  {
   "cell_type": "code",
   "execution_count": 3,
   "metadata": {},
   "outputs": [],
   "source": [
    "# source: https://www.geeksforgeeks.org/merge-sort/\n",
    "\n",
    "def mergeSort(arr):\n",
    "    if len(arr) > 1:\n",
    " \n",
    "         # Finding the mid of the array\n",
    "        mid = len(arr)//2\n",
    " \n",
    "        # Dividing the array elements\n",
    "        L = arr[:mid]\n",
    " \n",
    "        # Into 2 halves\n",
    "        R = arr[mid:]\n",
    " \n",
    "        # Sorting the first half\n",
    "        mergeSort(L)\n",
    " \n",
    "        # Sorting the second half\n",
    "        mergeSort(R)\n",
    " \n",
    "        i = j = k = 0\n",
    " \n",
    "        # Copy data to temp arrays L[] and R[]\n",
    "        while i < len(L) and j < len(R):\n",
    "            if L[i] <= R[j]:\n",
    "                arr[k] = L[i]\n",
    "                i += 1\n",
    "            else:\n",
    "                arr[k] = R[j]\n",
    "                j += 1\n",
    "            k += 1\n",
    " \n",
    "        # Checking if any element was left\n",
    "        while i < len(L):\n",
    "            arr[k] = L[i]\n",
    "            i += 1\n",
    "            k += 1\n",
    " \n",
    "        while j < len(R):\n",
    "            arr[k] = R[j]\n",
    "            j += 1\n",
    "            k += 1\n",
    " \n",
    " \n",
    "# # Code to print the list\n",
    "# def printList(arr):\n",
    "#     for i in range(len(arr)):\n",
    "#         print(arr[i], end=\" \")\n",
    "#     print()\n",
    " \n",
    " \n",
    "# # Driver Code\n",
    "# if __name__ == '__main__':\n",
    "#     arr = [12, 11, 13, 5, 6, 7]\n",
    "#     print(\"Given array is\")\n",
    "#     printList(arr)\n",
    "#     mergeSort(arr)\n",
    "#     print(\"\\nSorted array is \")\n",
    "#     printList(arr)\n",
    " \n",
    "# This code is contributed by Mayank Khanna"
   ]
  },
  {
   "cell_type": "code",
   "execution_count": 4,
   "metadata": {},
   "outputs": [
    {
     "name": "stdout",
     "output_type": "stream",
     "text": [
      "Insertion Sort Time: 0.000339 seconds\n",
      "Merge Sort Time: 0.001181 seconds\n"
     ]
    }
   ],
   "source": [
    "my_list = [1, 3, 6, 7, 3, 8, 2, 4]\n",
    "\n",
    "# Time insertion sort\n",
    "insertion_time = timeit.timeit('insertionSort(my_list.copy())', globals=globals(), number=100)\n",
    "print(f\"Insertion Sort Time: {insertion_time:.6f} seconds\")\n",
    "\n",
    "# Time merge sort\n",
    "merge_time = timeit.timeit('mergeSort(my_list.copy())', globals=globals(), number=100)\n",
    "print(f\"Merge Sort Time: {merge_time:.6f} seconds\")"
   ]
  },
  {
   "cell_type": "code",
   "execution_count": 5,
   "metadata": {},
   "outputs": [
    {
     "name": "stdout",
     "output_type": "stream",
     "text": [
      "Insertion Sort Time: 0.000102 seconds\n",
      "Merge Sort Time: 0.000246 seconds\n"
     ]
    }
   ],
   "source": [
    "my_list = [3, 7, 2]\n",
    "\n",
    "# Time insertion sort\n",
    "insertion_time = timeit.timeit('insertionSort(my_list.copy())', globals=globals(), number=100)\n",
    "print(f\"Insertion Sort Time: {insertion_time:.6f} seconds\")\n",
    "\n",
    "# Time merge sort\n",
    "merge_time = timeit.timeit('mergeSort(my_list.copy())', globals=globals(), number=100)\n",
    "print(f\"Merge Sort Time: {merge_time:.6f} seconds\")"
   ]
  },
  {
   "cell_type": "code",
   "execution_count": 6,
   "metadata": {},
   "outputs": [
    {
     "name": "stdout",
     "output_type": "stream",
     "text": [
      "Insertion Sort Time: 0.000028 seconds\n",
      "Merge Sort Time: 0.000017 seconds\n",
      "insertion sort takes longer time\n"
     ]
    }
   ],
   "source": [
    "my_list = random.sample(range(1, 1000), 1)\n",
    "\n",
    "# Time insertion sort\n",
    "insertion_time = timeit.timeit('insertionSort(my_list.copy())', globals=globals(), number=100)\n",
    "print(f\"Insertion Sort Time: {insertion_time:.6f} seconds\")\n",
    "\n",
    "# Time merge sort\n",
    "merge_time = timeit.timeit('mergeSort(my_list.copy())', globals=globals(), number=100)\n",
    "print(f\"Merge Sort Time: {merge_time:.6f} seconds\")\n",
    "\n",
    "if insertion_time > merge_time:\n",
    "    print(\"insertion sort takes longer time\")\n",
    "else:\n",
    "    print(\"merge sort takes longer time\")"
   ]
  },
  {
   "cell_type": "code",
   "execution_count": 7,
   "metadata": {},
   "outputs": [
    {
     "name": "stdout",
     "output_type": "stream",
     "text": [
      "Insertion Sort Time: 0.000028 seconds\n",
      "Merge Sort Time: 0.000017 seconds\n",
      "insertion sort takes longer time\n"
     ]
    }
   ],
   "source": [
    "my_list = random.sample(range(1500, 4000), 1)\n",
    "\n",
    "# Time insertion sort\n",
    "insertion_time = timeit.timeit('insertionSort(my_list.copy())', globals=globals(), number=100)\n",
    "print(f\"Insertion Sort Time: {insertion_time:.6f} seconds\")\n",
    "\n",
    "# Time merge sort\n",
    "merge_time = timeit.timeit('mergeSort(my_list.copy())', globals=globals(), number=100)\n",
    "print(f\"Merge Sort Time: {merge_time:.6f} seconds\")\n",
    "\n",
    "if insertion_time > merge_time:\n",
    "    print(\"insertion sort takes longer time\")\n",
    "else:\n",
    "    print(\"merge sort takes longer time\")"
   ]
  },
  {
   "cell_type": "code",
   "execution_count": 8,
   "metadata": {},
   "outputs": [
    {
     "name": "stdout",
     "output_type": "stream",
     "text": [
      "Insertion Sort Time: 0.000026 seconds\n",
      "Merge Sort Time: 0.000017 seconds\n",
      "insertion sort takes longer time\n"
     ]
    }
   ],
   "source": [
    "my_list = random.sample(range(1000, 1500), 1)\n",
    "\n",
    "# Time insertion sort\n",
    "insertion_time = timeit.timeit('insertionSort(my_list.copy())', globals=globals(), number=100)\n",
    "print(f\"Insertion Sort Time: {insertion_time:.6f} seconds\")\n",
    "\n",
    "# Time merge sort\n",
    "merge_time = timeit.timeit('mergeSort(my_list.copy())', globals=globals(), number=100)\n",
    "print(f\"Merge Sort Time: {merge_time:.6f} seconds\")\n",
    "\n",
    "if insertion_time > merge_time:\n",
    "    print(\"insertion sort takes longer time\")\n",
    "else:\n",
    "    print(\"merge sort takes longer time\")"
   ]
  }
 ],
 "metadata": {
  "kernelspec": {
   "display_name": "base",
   "language": "python",
   "name": "python3"
  },
  "language_info": {
   "codemirror_mode": {
    "name": "ipython",
    "version": 3
   },
   "file_extension": ".py",
   "mimetype": "text/x-python",
   "name": "python",
   "nbconvert_exporter": "python",
   "pygments_lexer": "ipython3",
   "version": "3.9.7"
  },
  "orig_nbformat": 4
 },
 "nbformat": 4,
 "nbformat_minor": 2
}
